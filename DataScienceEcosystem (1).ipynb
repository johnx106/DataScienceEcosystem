{
 "cells": [
  {
   "cell_type": "markdown",
   "id": "fbb2a079",
   "metadata": {},
   "source": [
    "# Data Science Tools and Ecosystem "
   ]
  },
  {
   "cell_type": "markdown",
   "id": "d09df73a",
   "metadata": {},
   "source": [
    "## Author:\n",
    "\n",
    "Kevin John\n"
   ]
  },
  {
   "cell_type": "markdown",
   "id": "010ff96f",
   "metadata": {},
   "source": [
    "In this notebook, Data Science Tools and Ecosystem are summarized"
   ]
  },
  {
   "cell_type": "markdown",
   "id": "548ff580",
   "metadata": {},
   "source": [
    "## Objectives:\n",
    "\n",
    "- **List popular languages for Data Science:** Explore and understand the primary programming languages commonly used in the field of Data Science.\n",
    "\n",
    "- **Demonstrate data visualization techniques:** Learn how to create effective data visualizations using tools like Matplotlib or Seaborn.\n",
    "\n",
    "- **Discuss key machine learning concepts:** Cover fundamental concepts in machine learning, including supervised and unsupervised learning, and explore common algorithms.\n",
    "\n",
    "- **Introduce data preprocessing steps:** Understand the importance of data preprocessing and explore techniques for cleaning and preparing data for analysis.\n",
    "\n",
    "- **Showcase real-world applications:** Provide examples of how Data Science is applied in various industries, emphasizing its practical relevance."
   ]
  },
  {
   "cell_type": "markdown",
   "id": "a436a14c",
   "metadata": {},
   "source": [
    "Some of the popular languages that Data Scientists use are:\n",
    "1. Python\n",
    "2. R program\n",
    "3. SQL"
   ]
  },
  {
   "cell_type": "markdown",
   "id": "f101d501",
   "metadata": {},
   "source": [
    "Some of the commonly used libraries used by Data Scientists include:\n",
    "1. NumPy\n",
    "2. Keras \n",
    "3. TensorFlow\n"
   ]
  },
  {
   "cell_type": "markdown",
   "id": "24bca4c8",
   "metadata": {},
   "source": [
    "| Data Science Tools    |\n",
    "|-----------------------|\n",
    "| Jupyter Notebooks     |\n",
    "| RStudio               |\n",
    "| VSCode (Visual Studio Code) |\n"
   ]
  },
  {
   "cell_type": "markdown",
   "id": "ff475846",
   "metadata": {},
   "source": [
    "### Below are a few examples of evaluating arithmetic expressions in Python"
   ]
  },
  {
   "cell_type": "code",
   "execution_count": 11,
   "id": "bfc44aae",
   "metadata": {},
   "outputs": [
    {
     "name": "stdout",
     "output_type": "stream",
     "text": [
      "This a simple arithmetic expression to mutiply then add integers\n"
     ]
    },
    {
     "data": {
      "text/plain": [
       "17"
      ]
     },
     "execution_count": 11,
     "metadata": {},
     "output_type": "execute_result"
    }
   ],
   "source": [
    "print(\"This a simple arithmetic expression to mutiply then add integers\") \n",
    "(3*4)+5"
   ]
  },
  {
   "cell_type": "code",
   "execution_count": 20,
   "id": "7e3f60fd",
   "metadata": {},
   "outputs": [
    {
     "name": "stdout",
     "output_type": "stream",
     "text": [
      "This will convert 200 minutes to hours by diving by 60\n"
     ]
    },
    {
     "data": {
      "text/plain": [
       "3.3333333333333335"
      ]
     },
     "execution_count": 20,
     "metadata": {},
     "output_type": "execute_result"
    }
   ],
   "source": [
    "print(\"This will convert 200 minutes to hours by diving by 60\")\n",
    "200/60"
   ]
  }
 ],
 "metadata": {
  "kernelspec": {
   "display_name": "Python 3 (ipykernel)",
   "language": "python",
   "name": "python3"
  },
  "language_info": {
   "codemirror_mode": {
    "name": "ipython",
    "version": 3
   },
   "file_extension": ".py",
   "mimetype": "text/x-python",
   "name": "python",
   "nbconvert_exporter": "python",
   "pygments_lexer": "ipython3",
   "version": "3.9.12"
  }
 },
 "nbformat": 4,
 "nbformat_minor": 5
}
